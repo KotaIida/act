{
 "cells": [
  {
   "cell_type": "code",
   "execution_count": 1,
   "id": "ecfbd344-5932-4c6f-9e73-23199b2d1beb",
   "metadata": {},
   "outputs": [
    {
     "name": "stderr",
     "output_type": "stream",
     "text": [
      "2024-09-22 07:17:23.969107: I tensorflow/core/util/port.cc:113] oneDNN custom operations are on. You may see slightly different numerical results due to floating-point round-off errors from different computation orders. To turn them off, set the environment variable `TF_ENABLE_ONEDNN_OPTS=0`.\n",
      "2024-09-22 07:17:24.153457: E external/local_xla/xla/stream_executor/cuda/cuda_dnn.cc:9261] Unable to register cuDNN factory: Attempting to register factory for plugin cuDNN when one has already been registered\n",
      "2024-09-22 07:17:24.153558: E external/local_xla/xla/stream_executor/cuda/cuda_fft.cc:607] Unable to register cuFFT factory: Attempting to register factory for plugin cuFFT when one has already been registered\n",
      "2024-09-22 07:17:24.175929: E external/local_xla/xla/stream_executor/cuda/cuda_blas.cc:1515] Unable to register cuBLAS factory: Attempting to register factory for plugin cuBLAS when one has already been registered\n",
      "2024-09-22 07:17:24.234949: I tensorflow/core/platform/cpu_feature_guard.cc:182] This TensorFlow binary is optimized to use available CPU instructions in performance-critical operations.\n",
      "To enable the following instructions: AVX2 AVX_VNNI FMA, in other operations, rebuild TensorFlow with the appropriate compiler flags.\n",
      "2024-09-22 07:17:24.800133: W tensorflow/compiler/tf2tensorrt/utils/py_utils.cc:38] TF-TRT Warning: Could not find TensorRT\n"
     ]
    }
   ],
   "source": [
    "import h5py\n",
    "import tensorflow as tf\n",
    "import os\n",
    "import numpy as np\n",
    "import json\n",
    "import shutil"
   ]
  },
  {
   "cell_type": "code",
   "execution_count": 2,
   "id": "72444fc3-fdbc-4d12-abd9-92310f5b6636",
   "metadata": {},
   "outputs": [
    {
     "data": {
      "text/plain": [
       "(False, True)"
      ]
     },
     "execution_count": 2,
     "metadata": {},
     "output_type": "execute_result"
    }
   ],
   "source": [
    "num_episodes = 1000\n",
    "episodes_per_file = 10\n",
    "num_files =  num_episodes // episodes_per_file\n",
    "\n",
    "# input_hdf5_dir = '/media/sbr-tech/Desk SSD/aloha/datas_couple_mobile'\n",
    "# dataset_name = \"mobile_aloha_sim_couple_dataset\"\n",
    "# task_name = \"mobile_aloha_sim_couple_dataset\"\n",
    "\n",
    "# input_hdf5_dir = '/media/sbr-tech/Desk SSD1/datas_couple_franka'\n",
    "# dataset_name = \"franka_dual_sim_couple_dataset\"\n",
    "# task_name = \"franka_dual_sim_couple_dataset\"\n",
    "\n",
    "input_hdf5_dir = '/media/sbr-tech/Desk SSD/datas_quadruple_franka_bimanual'\n",
    "# dataset_name = \"franka_dual_bimanual_sim_quadruple_dataset\"\n",
    "# task_name = \"franka_dual_bimanual_sim_quadruple_dataset\"\n",
    "\n",
    "dataset_name = \"franka_dual_bimanual_sim_quadruple_dataset\"\n",
    "task_name = \"franka_dual_bimanual_sim_quadruple_dataset\"\n",
    "\n",
    "input_hdf5_basename = \"episode_{}.hdf5\"\n",
    "version = \"1.0.0\"\n",
    "\n",
    "output_root = \"/media/sbr-tech/Desk SSD/\"\n",
    "output_basename = task_name + \"-train.tfrecord-{}-of-{}\"\n",
    "\n",
    "mobile = \"mobile\" in dataset_name\n",
    "franka = \"franka\" in dataset_name\n",
    "bimanual = \"bimanual\" in dataset_name\n",
    "\n",
    "lang = \"lang\" in dataset_name\n",
    "\n",
    "mobile, franka, bimanual, lang"
   ]
  },
  {
   "cell_type": "code",
   "execution_count": 3,
   "id": "612893b3",
   "metadata": {},
   "outputs": [],
   "source": [
    "output_dir = os.path.join(output_root, dataset_name, task_name, version)\n",
    "if not os.path.exists(output_dir):\n",
    "    os.makedirs(output_dir)"
   ]
  },
  {
   "cell_type": "code",
   "execution_count": 4,
   "id": "7ab058ab",
   "metadata": {},
   "outputs": [],
   "source": [
    "with open(\"dataset_info_template.json\", \"r\") as f:\n",
    "    dataset_info = json.load(f)\n",
    "\n",
    "dataset_info[\"moduleName\"] = task_name + \".\" + task_name\n",
    "dataset_info[\"name\"] = task_name\n",
    "dataset_info[\"version\"] = version\n",
    "dataset_info[\"splits\"][0][\"shardLengths\"] = [str(episodes_per_file)] * num_files \n",
    "\n",
    "with open(os.path.join(output_dir, \"dataset_info.json\"), \"w\") as f:\n",
    "    json.dump(dataset_info, f, ensure_ascii=False, indent=2, sort_keys=True, separators=(',', ': '))"
   ]
  },
  {
   "cell_type": "code",
   "execution_count": 5,
   "id": "a4fa7559",
   "metadata": {},
   "outputs": [
    {
     "data": {
      "text/plain": [
       "'/media/sbr-tech/Desk SSD/franka_dual_bimanual_sim_quadruple_dataset/franka_dual_bimanual_sim_quadruple_dataset/1.0.0/features.json'"
      ]
     },
     "execution_count": 5,
     "metadata": {},
     "output_type": "execute_result"
    }
   ],
   "source": [
    "# if not mobile:\n",
    "if not franka:\n",
    "    ret = shutil.copy(\"features_template_static.json\", os.path.join(output_dir, \"features.json\"))\n",
    "else:\n",
    "    ret = shutil.copy(\"features_template_franka.json\", os.path.join(output_dir, \"features.json\"))\n",
    "ret"
   ]
  },
  {
   "cell_type": "code",
   "execution_count": 6,
   "id": "24924c60",
   "metadata": {},
   "outputs": [],
   "source": [
    "sample_hdf5_file = os.path.join(input_hdf5_dir, input_hdf5_basename.format(0))"
   ]
  },
  {
   "cell_type": "code",
   "execution_count": 7,
   "id": "ee0aacf6-3d7b-41a7-9a81-5c7f0da39d12",
   "metadata": {},
   "outputs": [],
   "source": [
    "if franka:\n",
    "    if bimanual:\n",
    "        NUM_EPISODE = 800 \n",
    "    else:\n",
    "        NUM_EPISODE = 720         \n",
    "elif mobile:\n",
    "    NUM_EPISODE = 720 \n",
    "else:\n",
    "    NUM_EPISODE = 600\n",
    "\n",
    "IS_FIRSTS = np.zeros(NUM_EPISODE, dtype=int)\n",
    "IS_FIRSTS[0] = 1\n",
    "DISCOUNTS = np.ones(NUM_EPISODE, dtype=float)\n",
    "IS_LASTS = np.zeros(NUM_EPISODE, dtype=int)\n",
    "IS_LASTS[-1] = 1\n",
    "LANGUAGE_INSTRUCTION_LEFT_FIRST_CUCUMBER = b\"pick up the cucumber with your left hand and the red cube with your right, then put them in the bucket, cucumber first\"\n",
    "LANGUAGE_INSTRUCTION_RIGHT_FIRST_CUCUMBER = b\"pick up the cucumber with your right hand and the red cube with your left, then put them in the bucket, cucumber first\"\n",
    "LANGUAGE_INSTRUCTION_LEFT_FIRST_CUBE = b\"pick up the cucumber with your right hand and the red cube with your left, then put them in the bucket, cube first\"\n",
    "LANGUAGE_INSTRUCTION_RIGHT_FIRST_CUBE = b\"pick up the cucumber with your left hand and the red cube with your right, then put them in the bucket, cube first\"\n",
    "LANGUAGE_INSTRUCTIONS_LEFT_FIRST_CUCUMBER = np.array([LANGUAGE_INSTRUCTION_LEFT_FIRST_CUCUMBER]*NUM_EPISODE)\n",
    "LANGUAGE_INSTRUCTIONS_RIGHT_FIRST_CUCUMBER = np.array([LANGUAGE_INSTRUCTION_RIGHT_FIRST_CUCUMBER]*NUM_EPISODE)\n",
    "LANGUAGE_INSTRUCTIONS_LEFT_FIRST_CUBE = np.array([LANGUAGE_INSTRUCTION_LEFT_FIRST_CUBE]*NUM_EPISODE)\n",
    "LANGUAGE_INSTRUCTIONS_RIGHT_FIRST_CUBE = np.array([LANGUAGE_INSTRUCTION_RIGHT_FIRST_CUBE]*NUM_EPISODE)\n",
    "\n",
    "LANGUAGE_INSTRUCTION = b\"pick up the cucumber and the red cube and put them in the bucket\"\n",
    "LANGUAGE_INSTRUCTIONS = np.array([LANGUAGE_INSTRUCTION]*NUM_EPISODE)\n",
    "\n",
    "REWARDS = np.zeros(NUM_EPISODE, dtype=float)\n",
    "REWARDS[-1] = 1\n",
    "IS_TARMINALS = np.zeros(NUM_EPISODE, dtype=int)\n",
    "IS_TARMINALS[-1] = 1\n",
    "METADATA = sample_hdf5_file"
   ]
  },
  {
   "cell_type": "code",
   "execution_count": 8,
   "id": "3d3123e9-ae5c-4f7b-8e2d-52849877c60e",
   "metadata": {},
   "outputs": [],
   "source": [
    "def _image_bytes_feature(images):\n",
    "    values = [tf.image.encode_jpeg(image).numpy() for image in images]\n",
    "    return tf.train.Feature(bytes_list=tf.train.BytesList(value=values))\n",
    "\n",
    "def _language_bytes_feature(langs):\n",
    "    values = [lang.tobytes() for lang in langs]\n",
    "    return tf.train.Feature(bytes_list=tf.train.BytesList(value=values))\n",
    "    \n",
    "def _bytes_feature(value):\n",
    "    return tf.train.Feature(bytes_list=tf.train.BytesList(value=[value]))\n",
    "\n",
    "def _float_feature(value):\n",
    "    return tf.train.Feature(float_list=tf.train.FloatList(value=value))\n",
    "\n",
    "def _int64_feature(value):\n",
    "    return tf.train.Feature(int64_list=tf.train.Int64List(value=value))"
   ]
  },
  {
   "cell_type": "code",
   "execution_count": 9,
   "id": "d4a1750a-f8b2-49e4-8ca9-1c9ac8b43711",
   "metadata": {},
   "outputs": [],
   "source": [
    "def numpy_to_tf_example(states, images_top, images_angle, images_left_wrist, images_right_wrist, actions, lang=False, left_first_cucumber=False, right_first_cucumber=False, left_first_cube=False, right_first_cube=False):    \n",
    "    if lang:   \n",
    "        language_instructions = LANGUAGE_INSTRUCTIONS\n",
    "    else:\n",
    "        if left_first_cucumber:\n",
    "            language_instructions = LANGUAGE_INSTRUCTIONS_LEFT_FIRST_CUCUMBER\n",
    "        elif right_first_cucumber:\n",
    "            language_instructions = LANGUAGE_INSTRUCTIONS_RIGHT_FIRST_CUCUMBER\n",
    "        elif left_first_cube:\n",
    "            language_instructions = LANGUAGE_INSTRUCTIONS_LEFT_FIRST_CUBE\n",
    "        elif right_first_cube:\n",
    "            language_instructions = LANGUAGE_INSTRUCTIONS_RIGHT_FIRST_CUBE\n",
    "\n",
    "    feature = {\n",
    "        \"steps/is_first\": _int64_feature(IS_FIRSTS),\n",
    "        \"steps/action\": _float_feature(actions.flatten()),\n",
    "        \"steps/discount\": _float_feature(DISCOUNTS),\n",
    "        \"steps/is_last\": _int64_feature(IS_LASTS),\n",
    "        \"steps/language_instruction\": _language_bytes_feature(language_instructions),\n",
    "        \"steps/rewards\": _float_feature(REWARDS),\n",
    "        \"steps/observation/top\": _image_bytes_feature(images_top),\n",
    "        \"steps/observation/angle\": _image_bytes_feature(images_angle),\n",
    "        \"steps/observation/left_wrist\": _image_bytes_feature(images_left_wrist),\n",
    "        \"steps/observation/right_wrist\": _image_bytes_feature(images_right_wrist),\n",
    "        \"steps/is_terminal\": _int64_feature(IS_TARMINALS),\n",
    "        \"steps/observation/state\": _float_feature(states.flatten()),\n",
    "        \"episode_metadata/file_path\": _bytes_feature(METADATA.encode())\n",
    "    }\n",
    "\n",
    "    features = tf.train.Features(feature=feature)\n",
    "    example = tf.train.Example(features=features)\n",
    "    \n",
    "    return example"
   ]
  },
  {
   "cell_type": "code",
   "execution_count": 10,
   "id": "7fe658d3",
   "metadata": {},
   "outputs": [],
   "source": [
    "states_all = []\n",
    "actions_all = []"
   ]
  },
  {
   "cell_type": "code",
   "execution_count": 11,
   "id": "e6394a06-9a82-42ad-8502-86952e99eb17",
   "metadata": {},
   "outputs": [
    {
     "name": "stderr",
     "output_type": "stream",
     "text": [
      "2024-09-22 07:17:30.628695: I external/local_xla/xla/stream_executor/cuda/cuda_executor.cc:901] successful NUMA node read from SysFS had negative value (-1), but there must be at least one NUMA node, so returning NUMA node zero. See more at https://github.com/torvalds/linux/blob/v6.0/Documentation/ABI/testing/sysfs-bus-pci#L344-L355\n",
      "2024-09-22 07:17:30.684460: I external/local_xla/xla/stream_executor/cuda/cuda_executor.cc:901] successful NUMA node read from SysFS had negative value (-1), but there must be at least one NUMA node, so returning NUMA node zero. See more at https://github.com/torvalds/linux/blob/v6.0/Documentation/ABI/testing/sysfs-bus-pci#L344-L355\n",
      "2024-09-22 07:17:30.684564: I external/local_xla/xla/stream_executor/cuda/cuda_executor.cc:901] successful NUMA node read from SysFS had negative value (-1), but there must be at least one NUMA node, so returning NUMA node zero. See more at https://github.com/torvalds/linux/blob/v6.0/Documentation/ABI/testing/sysfs-bus-pci#L344-L355\n",
      "2024-09-22 07:17:30.686922: I external/local_xla/xla/stream_executor/cuda/cuda_executor.cc:901] successful NUMA node read from SysFS had negative value (-1), but there must be at least one NUMA node, so returning NUMA node zero. See more at https://github.com/torvalds/linux/blob/v6.0/Documentation/ABI/testing/sysfs-bus-pci#L344-L355\n",
      "2024-09-22 07:17:30.686995: I external/local_xla/xla/stream_executor/cuda/cuda_executor.cc:901] successful NUMA node read from SysFS had negative value (-1), but there must be at least one NUMA node, so returning NUMA node zero. See more at https://github.com/torvalds/linux/blob/v6.0/Documentation/ABI/testing/sysfs-bus-pci#L344-L355\n",
      "2024-09-22 07:17:30.687045: I external/local_xla/xla/stream_executor/cuda/cuda_executor.cc:901] successful NUMA node read from SysFS had negative value (-1), but there must be at least one NUMA node, so returning NUMA node zero. See more at https://github.com/torvalds/linux/blob/v6.0/Documentation/ABI/testing/sysfs-bus-pci#L344-L355\n",
      "2024-09-22 07:17:30.737628: I external/local_xla/xla/stream_executor/cuda/cuda_executor.cc:901] successful NUMA node read from SysFS had negative value (-1), but there must be at least one NUMA node, so returning NUMA node zero. See more at https://github.com/torvalds/linux/blob/v6.0/Documentation/ABI/testing/sysfs-bus-pci#L344-L355\n",
      "2024-09-22 07:17:30.737724: I external/local_xla/xla/stream_executor/cuda/cuda_executor.cc:901] successful NUMA node read from SysFS had negative value (-1), but there must be at least one NUMA node, so returning NUMA node zero. See more at https://github.com/torvalds/linux/blob/v6.0/Documentation/ABI/testing/sysfs-bus-pci#L344-L355\n",
      "2024-09-22 07:17:30.737784: I external/local_xla/xla/stream_executor/cuda/cuda_executor.cc:901] successful NUMA node read from SysFS had negative value (-1), but there must be at least one NUMA node, so returning NUMA node zero. See more at https://github.com/torvalds/linux/blob/v6.0/Documentation/ABI/testing/sysfs-bus-pci#L344-L355\n",
      "2024-09-22 07:17:30.737841: I tensorflow/core/common_runtime/gpu/gpu_device.cc:1929] Created device /job:localhost/replica:0/task:0/device:GPU:0 with 14185 MB memory:  -> device: 0, name: NVIDIA GeForce RTX 4090 Laptop GPU, pci bus id: 0000:01:00.0, compute capability: 8.9\n"
     ]
    }
   ],
   "source": [
    "\n",
    "episode_idx = 0\n",
    "for file_idx in range(num_files):\n",
    "    output_tfrecord_file = os.path.join(output_dir, output_basename.format(str(file_idx).zfill(5), str(num_files).zfill(5)))\n",
    "    with tf.io.TFRecordWriter(output_tfrecord_file) as writer:\n",
    "        for _ in range(episodes_per_file):\n",
    "            hdf5_file = os.path.join(input_hdf5_dir, input_hdf5_basename.format(episode_idx))\n",
    "            with h5py.File(hdf5_file, 'r') as hdf5_f:\n",
    "                states = hdf5_f[\"observations\"][\"qpos\"][:].copy()\n",
    "                images_top = hdf5_f[\"observations\"][\"images\"][\"top\"][:].copy()\n",
    "                images_angle = hdf5_f[\"observations\"][\"images\"][\"angle\"][:].copy()\n",
    "                images_left_wrist = hdf5_f[\"observations\"][\"images\"][\"left_wrist\"][:].copy()\n",
    "                images_right_wrist = hdf5_f[\"observations\"][\"images\"][\"right_wrist\"][:].copy()\n",
    "                actions = hdf5_f[\"action\"][:].copy()\n",
    "\n",
    "                states_all.append(states)\n",
    "                actions_all.append(actions)\n",
    "            \n",
    "            left_first_cucumber = episode_idx%4 == 0\n",
    "            right_first_cucumber = episode_idx%4 == 1\n",
    "            left_first_cube = episode_idx%4 == 2\n",
    "            right_first_cube = episode_idx%4 == 3\n",
    "                \n",
    "            example = numpy_to_tf_example(states, images_top, images_angle, images_left_wrist, images_right_wrist, actions, \n",
    "                                          left_first_cucumber=left_first_cucumber, right_first_cucumber=right_first_cucumber, \n",
    "                                          left_first_cube=left_first_cube, right_first_cube=right_first_cube)   \n",
    "\n",
    "            writer.write(example.SerializeToString())\n",
    "            episode_idx += 1\n"
   ]
  },
  {
   "cell_type": "code",
   "execution_count": 12,
   "id": "6920064e",
   "metadata": {},
   "outputs": [],
   "source": [
    "states_all = np.concatenate(states_all)\n",
    "actions_all = np.concatenate(actions_all)"
   ]
  },
  {
   "cell_type": "code",
   "execution_count": 13,
   "id": "6467cb06",
   "metadata": {},
   "outputs": [],
   "source": [
    "statistics_dic = {}\n",
    "statistics_dic[\"action\"] = {}\n",
    "statistics_dic[\"action\"][\"mean\"] = actions_all.mean(axis=0).tolist()\n",
    "statistics_dic[\"action\"][\"std\"] = actions_all.std(axis=0).tolist()\n",
    "statistics_dic[\"action\"][\"max\"] = actions_all.max(axis=0).tolist()\n",
    "statistics_dic[\"action\"][\"min\"] = actions_all.min(axis=0).tolist()\n",
    "statistics_dic[\"action\"][\"p99\"] = np.percentile(actions_all, 99, axis=0).tolist()\n",
    "statistics_dic[\"action\"][\"p01\"] = np.percentile(actions_all, 1, axis=0).tolist()\n",
    "\n",
    "statistics_dic[\"num_transitions\"] = num_episodes * NUM_EPISODE\n",
    "statistics_dic[\"num_trajectories\"] = num_episodes\n",
    "\n",
    "statistics_dic[\"proprio\"] = {}\n",
    "statistics_dic[\"proprio\"][\"mean\"] = states_all.mean(axis=0).tolist()\n",
    "statistics_dic[\"proprio\"][\"std\"] = states_all.std(axis=0).tolist()\n",
    "statistics_dic[\"proprio\"][\"max\"] = states_all.max(axis=0).tolist()\n",
    "statistics_dic[\"proprio\"][\"min\"] = states_all.min(axis=0).tolist()\n",
    "statistics_dic[\"proprio\"][\"p99\"] = np.percentile(states_all, 99, axis=0).tolist()\n",
    "statistics_dic[\"proprio\"][\"p01\"] = np.percentile(states_all, 1, axis=0).tolist()\n"
   ]
  },
  {
   "cell_type": "code",
   "execution_count": 14,
   "id": "82c16fd2",
   "metadata": {},
   "outputs": [],
   "source": [
    "with open(os.path.join(output_dir, \"dataset_statistics.json\"), \"w\") as f:\n",
    "    json.dump(statistics_dic, f)"
   ]
  },
  {
   "cell_type": "code",
   "execution_count": null,
   "id": "b76348ec",
   "metadata": {},
   "outputs": [],
   "source": []
  }
 ],
 "metadata": {
  "kernelspec": {
   "display_name": "Python 3 (ipykernel)",
   "language": "python",
   "name": "python3"
  },
  "language_info": {
   "codemirror_mode": {
    "name": "ipython",
    "version": 3
   },
   "file_extension": ".py",
   "mimetype": "text/x-python",
   "name": "python",
   "nbconvert_exporter": "python",
   "pygments_lexer": "ipython3",
   "version": "3.10.12"
  }
 },
 "nbformat": 4,
 "nbformat_minor": 5
}
