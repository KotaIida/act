{
 "cells": [
  {
   "cell_type": "code",
   "execution_count": 1,
   "id": "ecfbd344-5932-4c6f-9e73-23199b2d1beb",
   "metadata": {},
   "outputs": [
    {
     "name": "stderr",
     "output_type": "stream",
     "text": [
      "2024-08-12 13:22:15.106484: I tensorflow/core/util/port.cc:113] oneDNN custom operations are on. You may see slightly different numerical results due to floating-point round-off errors from different computation orders. To turn them off, set the environment variable `TF_ENABLE_ONEDNN_OPTS=0`.\n",
      "2024-08-12 13:22:15.133442: I external/local_tsl/tsl/cuda/cudart_stub.cc:31] Could not find cuda drivers on your machine, GPU will not be used.\n",
      "2024-08-12 13:22:15.256626: E external/local_xla/xla/stream_executor/cuda/cuda_dnn.cc:9261] Unable to register cuDNN factory: Attempting to register factory for plugin cuDNN when one has already been registered\n",
      "2024-08-12 13:22:15.256676: E external/local_xla/xla/stream_executor/cuda/cuda_fft.cc:607] Unable to register cuFFT factory: Attempting to register factory for plugin cuFFT when one has already been registered\n",
      "2024-08-12 13:22:15.278317: E external/local_xla/xla/stream_executor/cuda/cuda_blas.cc:1515] Unable to register cuBLAS factory: Attempting to register factory for plugin cuBLAS when one has already been registered\n",
      "2024-08-12 13:22:15.321557: I external/local_tsl/tsl/cuda/cudart_stub.cc:31] Could not find cuda drivers on your machine, GPU will not be used.\n",
      "2024-08-12 13:22:15.322392: I tensorflow/core/platform/cpu_feature_guard.cc:182] This TensorFlow binary is optimized to use available CPU instructions in performance-critical operations.\n",
      "To enable the following instructions: AVX2 AVX_VNNI FMA, in other operations, rebuild TensorFlow with the appropriate compiler flags.\n",
      "2024-08-12 13:22:15.918559: W tensorflow/compiler/tf2tensorrt/utils/py_utils.cc:38] TF-TRT Warning: Could not find TensorRT\n"
     ]
    }
   ],
   "source": [
    "import h5py\n",
    "import tensorflow as tf\n",
    "import os\n",
    "import numpy as np\n",
    "import json\n",
    "import shutil"
   ]
  },
  {
   "cell_type": "code",
   "execution_count": 2,
   "id": "72444fc3-fdbc-4d12-abd9-92310f5b6636",
   "metadata": {},
   "outputs": [],
   "source": [
    "num_episodes = 900\n",
    "num_files = 150\n",
    "\n",
    "input_hdf5_dir_1 = '/media/sbr-tech/Desk SSD1/aloha/datas_1of4_cucumbers_150'\n",
    "input_hdf5_dir_2 = '/media/sbr-tech/Desk SSD1/aloha/datas_2of4_cucumbers_300'\n",
    "input_hdf5_dir_3 = '/media/sbr-tech/Desk SSD1/aloha/datas_3of4_cucumbers_450'\n",
    "\n",
    "\n",
    "input_hdf5_basename = \"episode_{}.hdf5\"\n",
    "\n",
    "output_root = \"/media/sbr-tech/Desk SSD1/aloha/\"\n",
    "dataset_name = \"aloha_sim_multi_cucumber_dataset\"\n",
    "task_name = \"aloha_sim_multi_cucumber_scripted_dataset\"\n",
    "version = \"1.0.0\"\n",
    "\n",
    "output_basename = task_name + \"-train.tfrecord-{}-of-{}\""
   ]
  },
  {
   "cell_type": "code",
   "execution_count": 3,
   "id": "612893b3",
   "metadata": {},
   "outputs": [],
   "source": [
    "output_dir = os.path.join(output_root, dataset_name, task_name, version)\n",
    "if not os.path.exists(output_dir):\n",
    "    os.makedirs(output_dir)"
   ]
  },
  {
   "cell_type": "code",
   "execution_count": 4,
   "id": "7ab058ab",
   "metadata": {},
   "outputs": [],
   "source": [
    "episodes_per_file = num_episodes // num_files\n",
    "\n",
    "with open(\"dataset_info_template.json\", \"r\") as f:\n",
    "    dataset_info = json.load(f)\n",
    "\n",
    "dataset_info[\"moduleName\"] = task_name + \".\" + task_name\n",
    "dataset_info[\"name\"] = task_name\n",
    "dataset_info[\"version\"] = version\n",
    "dataset_info[\"splits\"][0][\"shardLengths\"] = [str(episodes_per_file)] * num_files \n",
    "\n",
    "with open(os.path.join(output_dir, \"dataset_info.json\"), \"w\") as f:\n",
    "    json.dump(dataset_info, f, ensure_ascii=False, indent=2, sort_keys=True, separators=(',', ': '))"
   ]
  },
  {
   "cell_type": "code",
   "execution_count": 5,
   "id": "a4fa7559",
   "metadata": {},
   "outputs": [
    {
     "data": {
      "text/plain": [
       "'/media/sbr-tech/Desk SSD1/aloha/aloha_sim_multi_cucumber_dataset/aloha_sim_multi_cucumber_scripted_dataset/1.0.0/features.json'"
      ]
     },
     "execution_count": 5,
     "metadata": {},
     "output_type": "execute_result"
    }
   ],
   "source": [
    "ret = shutil.copy(\"features_template.json\", os.path.join(output_dir, \"features.json\"))\n",
    "ret"
   ]
  },
  {
   "cell_type": "code",
   "execution_count": 6,
   "id": "24924c60",
   "metadata": {},
   "outputs": [],
   "source": [
    "sample_hdf5_file_1 = os.path.join(input_hdf5_dir_1, input_hdf5_basename.format(0))\n",
    "sample_hdf5_file_2 = os.path.join(input_hdf5_dir_2, input_hdf5_basename.format(0))\n",
    "sample_hdf5_file_3 = os.path.join(input_hdf5_dir_3, input_hdf5_basename.format(0))"
   ]
  },
  {
   "cell_type": "code",
   "execution_count": 7,
   "id": "ee0aacf6-3d7b-41a7-9a81-5c7f0da39d12",
   "metadata": {},
   "outputs": [],
   "source": [
    "NUM_EPISODE_1 = 600\n",
    "\n",
    "IS_FIRSTS_1 = np.zeros(NUM_EPISODE_1, dtype=int)\n",
    "IS_FIRSTS_1[0] = 1\n",
    "DISCOUNTS_1 = np.ones(NUM_EPISODE_1, dtype=float)\n",
    "IS_LASTS_1 = np.zeros(NUM_EPISODE_1, dtype=int)\n",
    "IS_LASTS_1[-1] = 1\n",
    "LANGUAGE_INSTRUCTION_1 = b\"pick up one cucumber and put it in the bucket\"\n",
    "LANGUAGE_INSTRUCTIONS_1 = np.array([LANGUAGE_INSTRUCTION_1]*NUM_EPISODE_1)\n",
    "REWARDS_1 = np.zeros(NUM_EPISODE_1, dtype=float)\n",
    "REWARDS_1[-1] = 1\n",
    "IS_TARMINALS_1 = np.zeros(NUM_EPISODE_1, dtype=int)\n",
    "IS_TARMINALS_1[-1] = 1\n",
    "METADATA_1 = sample_hdf5_file_1"
   ]
  },
  {
   "cell_type": "code",
   "execution_count": 8,
   "id": "9d952a1e-d578-45f9-8f7c-05c03720f3a4",
   "metadata": {},
   "outputs": [],
   "source": [
    "NUM_EPISODE_2 = 600*2\n",
    "\n",
    "IS_FIRSTS_2 = np.zeros(NUM_EPISODE_2, dtype=int)\n",
    "IS_FIRSTS_2[0] = 1\n",
    "DISCOUNTS_2 = np.ones(NUM_EPISODE_2, dtype=float)\n",
    "IS_LASTS_2 = np.zeros(NUM_EPISODE_2, dtype=int)\n",
    "IS_LASTS_2[-1] = 1\n",
    "LANGUAGE_INSTRUCTION_2 = b\"pick up two cucumbers and put them in the bucket\"\n",
    "LANGUAGE_INSTRUCTIONS_2 = np.array([LANGUAGE_INSTRUCTION_2]*NUM_EPISODE_2)\n",
    "REWARDS_2 = np.zeros(NUM_EPISODE_2, dtype=float)\n",
    "REWARDS_2[-1] = 1\n",
    "IS_TARMINALS_2 = np.zeros(NUM_EPISODE_2, dtype=int)\n",
    "IS_TARMINALS_2[-1] = 1\n",
    "METADATA_2 = sample_hdf5_file_2"
   ]
  },
  {
   "cell_type": "code",
   "execution_count": 9,
   "id": "80a7d349-03bd-4fdf-ab93-494449db9c99",
   "metadata": {},
   "outputs": [],
   "source": [
    "NUM_EPISODE_3 = 600*3\n",
    "\n",
    "IS_FIRSTS_3 = np.zeros(NUM_EPISODE_3, dtype=int)\n",
    "IS_FIRSTS_3[0] = 1\n",
    "DISCOUNTS_3 = np.ones(NUM_EPISODE_3, dtype=float)\n",
    "IS_LASTS_3 = np.zeros(NUM_EPISODE_3, dtype=int)\n",
    "IS_LASTS_3[-1] = 1\n",
    "LANGUAGE_INSTRUCTION_3 = b\"pick up three cucumbers and put them in the bucket\"\n",
    "LANGUAGE_INSTRUCTIONS_3 = np.array([LANGUAGE_INSTRUCTION_3]*NUM_EPISODE_3)\n",
    "REWARDS_3 = np.zeros(NUM_EPISODE_3, dtype=float)\n",
    "REWARDS_3[-1] = 1\n",
    "IS_TARMINALS_3 = np.zeros(NUM_EPISODE_3, dtype=int)\n",
    "IS_TARMINALS_3[-1] = 1\n",
    "METADATA_3 = sample_hdf5_file_3"
   ]
  },
  {
   "cell_type": "code",
   "execution_count": null,
   "id": "9a9a8765-17ca-4d44-8338-2cf5cc4beab2",
   "metadata": {},
   "outputs": [],
   "source": []
  },
  {
   "cell_type": "code",
   "execution_count": null,
   "id": "a72f950d-49ca-4221-88cd-c7f632b6b0d7",
   "metadata": {},
   "outputs": [],
   "source": []
  },
  {
   "cell_type": "code",
   "execution_count": 10,
   "id": "3d3123e9-ae5c-4f7b-8e2d-52849877c60e",
   "metadata": {},
   "outputs": [],
   "source": [
    "def _image_bytes_feature(images):\n",
    "    values = [tf.image.encode_jpeg(image).numpy() for image in images]\n",
    "    return tf.train.Feature(bytes_list=tf.train.BytesList(value=values))\n",
    "\n",
    "def _language_bytes_feature(langs):\n",
    "    values = [lang.tobytes() for lang in langs]\n",
    "    return tf.train.Feature(bytes_list=tf.train.BytesList(value=values))\n",
    "    \n",
    "def _bytes_feature(value):\n",
    "    return tf.train.Feature(bytes_list=tf.train.BytesList(value=[value]))\n",
    "\n",
    "def _float_feature(value):\n",
    "    return tf.train.Feature(float_list=tf.train.FloatList(value=value))\n",
    "\n",
    "def _int64_feature(value):\n",
    "    return tf.train.Feature(int64_list=tf.train.Int64List(value=value))"
   ]
  },
  {
   "cell_type": "code",
   "execution_count": 11,
   "id": "d4a1750a-f8b2-49e4-8ca9-1c9ac8b43711",
   "metadata": {},
   "outputs": [],
   "source": [
    "def numpy_to_tf_example_1(states, images_top, images_angle, images_left_wrist, images_right_wrist, actions):    \n",
    "    # Featureを作成\n",
    "    feature = {\n",
    "        \"steps/is_first\": _int64_feature(IS_FIRSTS_1),\n",
    "        \"steps/action\": _float_feature(actions.flatten()),\n",
    "        \"steps/discount\": _float_feature(DISCOUNTS_1),\n",
    "        \"steps/is_last\": _int64_feature(IS_LASTS_1),\n",
    "        \"steps/language_instruction\": _language_bytes_feature(LANGUAGE_INSTRUCTIONS_1),\n",
    "        \"steps/rewards\": _float_feature(REWARDS_1),\n",
    "        \"steps/observation/top\": _image_bytes_feature(images_top),\n",
    "        \"steps/observation/angle\": _image_bytes_feature(images_angle),\n",
    "        \"steps/observation/left_wrist\": _image_bytes_feature(images_left_wrist),\n",
    "        \"steps/observation/right_wrist\": _image_bytes_feature(images_right_wrist),\n",
    "        \"steps/is_terminal\": _int64_feature(IS_TARMINALS_1),\n",
    "        \"steps/observation/state\": _float_feature(states.flatten()),\n",
    "        \"episode_metadata/file_path\": _bytes_feature(METADATA_1.encode())\n",
    "    }\n",
    "    \n",
    "    features = tf.train.Features(feature=feature)\n",
    "    example = tf.train.Example(features=features)\n",
    "    \n",
    "    return example\n",
    "\n",
    "\n",
    "def numpy_to_tf_example_2(states, images_top, images_angle, images_left_wrist, images_right_wrist, actions):    \n",
    "    # Featureを作成\n",
    "    feature = {\n",
    "        \"steps/is_first\": _int64_feature(IS_FIRSTS_2),\n",
    "        \"steps/action\": _float_feature(actions.flatten()),\n",
    "        \"steps/discount\": _float_feature(DISCOUNTS_2),\n",
    "        \"steps/is_last\": _int64_feature(IS_LASTS_2),\n",
    "        \"steps/language_instruction\": _language_bytes_feature(LANGUAGE_INSTRUCTIONS_2),\n",
    "        \"steps/rewards\": _float_feature(REWARDS_2),\n",
    "        \"steps/observation/top\": _image_bytes_feature(images_top),\n",
    "        \"steps/observation/angle\": _image_bytes_feature(images_angle),\n",
    "        \"steps/observation/left_wrist\": _image_bytes_feature(images_left_wrist),\n",
    "        \"steps/observation/right_wrist\": _image_bytes_feature(images_right_wrist),\n",
    "        \"steps/is_terminal\": _int64_feature(IS_TARMINALS_2),\n",
    "        \"steps/observation/state\": _float_feature(states.flatten()),\n",
    "        \"episode_metadata/file_path\": _bytes_feature(METADATA_2.encode())\n",
    "    }\n",
    "    \n",
    "    features = tf.train.Features(feature=feature)\n",
    "    example = tf.train.Example(features=features)\n",
    "    \n",
    "    return example\n",
    "\n",
    "def numpy_to_tf_example_3(states, images_top, images_angle, images_left_wrist, images_right_wrist, actions):    \n",
    "    # Featureを作成\n",
    "    feature = {\n",
    "        \"steps/is_first\": _int64_feature(IS_FIRSTS_3),\n",
    "        \"steps/action\": _float_feature(actions.flatten()),\n",
    "        \"steps/discount\": _float_feature(DISCOUNTS_3),\n",
    "        \"steps/is_last\": _int64_feature(IS_LASTS_3),\n",
    "        \"steps/language_instruction\": _language_bytes_feature(LANGUAGE_INSTRUCTIONS_3),\n",
    "        \"steps/rewards\": _float_feature(REWARDS_3),\n",
    "        \"steps/observation/top\": _image_bytes_feature(images_top),\n",
    "        \"steps/observation/angle\": _image_bytes_feature(images_angle),\n",
    "        \"steps/observation/left_wrist\": _image_bytes_feature(images_left_wrist),\n",
    "        \"steps/observation/right_wrist\": _image_bytes_feature(images_right_wrist),\n",
    "        \"steps/is_terminal\": _int64_feature(IS_TARMINALS_3),\n",
    "        \"steps/observation/state\": _float_feature(states.flatten()),\n",
    "        \"episode_metadata/file_path\": _bytes_feature(METADATA_3.encode())\n",
    "    }\n",
    "    \n",
    "    features = tf.train.Features(feature=feature)\n",
    "    example = tf.train.Example(features=features)\n",
    "    \n",
    "    return example"
   ]
  },
  {
   "cell_type": "code",
   "execution_count": 12,
   "id": "e6394a06-9a82-42ad-8502-86952e99eb17",
   "metadata": {},
   "outputs": [
    {
     "name": "stderr",
     "output_type": "stream",
     "text": [
      "2024-08-12 13:22:47.968671: I external/local_xla/xla/stream_executor/cuda/cuda_executor.cc:901] successful NUMA node read from SysFS had negative value (-1), but there must be at least one NUMA node, so returning NUMA node zero. See more at https://github.com/torvalds/linux/blob/v6.0/Documentation/ABI/testing/sysfs-bus-pci#L344-L355\n",
      "2024-08-12 13:22:47.968925: W tensorflow/core/common_runtime/gpu/gpu_device.cc:2256] Cannot dlopen some GPU libraries. Please make sure the missing libraries mentioned above are installed properly if you would like to use GPU. Follow the guide at https://www.tensorflow.org/install/gpu for how to download and setup the required libraries for your platform.\n",
      "Skipping registering GPU devices...\n"
     ]
    }
   ],
   "source": [
    "episode_idx_1 = 0\n",
    "episode_idx_2 = 0\n",
    "episode_idx_3 = 0\n",
    "\n",
    "for file_idx in range(num_files):\n",
    "    output_tfrecord_file = os.path.join(output_dir, output_basename.format(str(file_idx).zfill(5), str(num_files).zfill(5)))\n",
    "    with tf.io.TFRecordWriter(output_tfrecord_file) as writer:\n",
    "\n",
    "        hdf5_file_1 = os.path.join(input_hdf5_dir_1, input_hdf5_basename.format(episode_idx_1))\n",
    "        with h5py.File(hdf5_file_1, 'r') as hdf5_f:\n",
    "            states = hdf5_f[\"observations\"][\"qpos\"][:].copy()\n",
    "            images_top = hdf5_f[\"observations\"][\"images\"][\"top\"][:].copy()\n",
    "            images_angle = hdf5_f[\"observations\"][\"images\"][\"angle\"][:].copy()\n",
    "            images_left_wrist = hdf5_f[\"observations\"][\"images\"][\"left_wrist\"][:].copy()\n",
    "            images_right_wrist = hdf5_f[\"observations\"][\"images\"][\"right_wrist\"][:].copy()\n",
    "            actions = hdf5_f[\"action\"][:].copy()\n",
    "        example_1 = numpy_to_tf_example_1(states, images_top, images_angle, images_left_wrist, images_right_wrist, actions)\n",
    "        writer.write(example_1.SerializeToString())\n",
    "        episode_idx_1 += 1\n",
    "\n",
    "        for _ in range(2):\n",
    "            hdf5_file_2 = os.path.join(input_hdf5_dir_2, input_hdf5_basename.format(episode_idx_2))\n",
    "            with h5py.File(hdf5_file_2, 'r') as hdf5_f:\n",
    "                states = hdf5_f[\"observations\"][\"qpos\"][:].copy()\n",
    "                images_top = hdf5_f[\"observations\"][\"images\"][\"top\"][:].copy()\n",
    "                images_angle = hdf5_f[\"observations\"][\"images\"][\"angle\"][:].copy()\n",
    "                images_left_wrist = hdf5_f[\"observations\"][\"images\"][\"left_wrist\"][:].copy()\n",
    "                images_right_wrist = hdf5_f[\"observations\"][\"images\"][\"right_wrist\"][:].copy()\n",
    "                actions = hdf5_f[\"action\"][:].copy()\n",
    "            example_2 = numpy_to_tf_example_2(states, images_top, images_angle, images_left_wrist, images_right_wrist, actions)\n",
    "            writer.write(example_2.SerializeToString())\n",
    "            episode_idx_2 += 1\n",
    "\n",
    "        for _ in range(3):\n",
    "            hdf5_file_3 = os.path.join(input_hdf5_dir_3, input_hdf5_basename.format(episode_idx_3))\n",
    "            with h5py.File(hdf5_file_3, 'r') as hdf5_f:\n",
    "                states = hdf5_f[\"observations\"][\"qpos\"][:].copy()\n",
    "                images_top = hdf5_f[\"observations\"][\"images\"][\"top\"][:].copy()\n",
    "                images_angle = hdf5_f[\"observations\"][\"images\"][\"angle\"][:].copy()\n",
    "                images_left_wrist = hdf5_f[\"observations\"][\"images\"][\"left_wrist\"][:].copy()\n",
    "                images_right_wrist = hdf5_f[\"observations\"][\"images\"][\"right_wrist\"][:].copy()\n",
    "                actions = hdf5_f[\"action\"][:].copy()\n",
    "            example_3 = numpy_to_tf_example_3(states, images_top, images_angle, images_left_wrist, images_right_wrist, actions)\n",
    "            writer.write(example_3.SerializeToString())\n",
    "            episode_idx_3 += 1"
   ]
  },
  {
   "cell_type": "code",
   "execution_count": null,
   "id": "46f45b9c-5073-4621-83ca-7f1c68b9fdf2",
   "metadata": {},
   "outputs": [],
   "source": []
  },
  {
   "cell_type": "code",
   "execution_count": null,
   "id": "ac6ec3de-ea00-451d-ad69-2df95d1b7540",
   "metadata": {},
   "outputs": [],
   "source": []
  },
  {
   "cell_type": "code",
   "execution_count": null,
   "id": "e5308edb-969c-4ece-941d-76100172bf5e",
   "metadata": {},
   "outputs": [],
   "source": []
  }
 ],
 "metadata": {
  "kernelspec": {
   "display_name": "Python 3 (ipykernel)",
   "language": "python",
   "name": "python3"
  },
  "language_info": {
   "codemirror_mode": {
    "name": "ipython",
    "version": 3
   },
   "file_extension": ".py",
   "mimetype": "text/x-python",
   "name": "python",
   "nbconvert_exporter": "python",
   "pygments_lexer": "ipython3",
   "version": "3.10.12"
  }
 },
 "nbformat": 4,
 "nbformat_minor": 5
}
