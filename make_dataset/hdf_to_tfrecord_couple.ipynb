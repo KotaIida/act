{
 "cells": [
  {
   "cell_type": "code",
   "execution_count": 2,
   "id": "ecfbd344-5932-4c6f-9e73-23199b2d1beb",
   "metadata": {},
   "outputs": [],
   "source": [
    "import h5py\n",
    "import tensorflow as tf\n",
    "import os\n",
    "import numpy as np\n",
    "import json\n",
    "import shutil"
   ]
  },
  {
   "cell_type": "code",
   "execution_count": 3,
   "id": "72444fc3-fdbc-4d12-abd9-92310f5b6636",
   "metadata": {},
   "outputs": [],
   "source": [
    "num_episodes = 200\n",
    "num_files = 20\n",
    "\n",
    "input_hdf5_dir = '/media/sbr-tech/Desk SSD/aloha/datas_couple_mobile'\n",
    "input_hdf5_basename = \"episode_{}.hdf5\"\n",
    "\n",
    "output_root = \"/media/sbr-tech/Desk SSD1/aloha/\"\n",
    "dataset_name = \"mobile_aloha_sim_couple_dataset_100\"\n",
    "task_name = \"mobile_aloha_sim_couple_dataset\"\n",
    "version = \"1.0.0\"\n",
    "\n",
    "output_basename = task_name + \"-train.tfrecord-{}-of-{}\"\n",
    "\n",
    "mobile = True"
   ]
  },
  {
   "cell_type": "code",
   "execution_count": 4,
   "id": "612893b3",
   "metadata": {},
   "outputs": [],
   "source": [
    "output_dir = os.path.join(output_root, dataset_name, task_name, version)\n",
    "if not os.path.exists(output_dir):\n",
    "    os.makedirs(output_dir)"
   ]
  },
  {
   "cell_type": "code",
   "execution_count": 5,
   "id": "7ab058ab",
   "metadata": {},
   "outputs": [],
   "source": [
    "episodes_per_file = num_episodes // num_files\n",
    "\n",
    "with open(\"dataset_info_template.json\", \"r\") as f:\n",
    "    dataset_info = json.load(f)\n",
    "\n",
    "dataset_info[\"moduleName\"] = task_name + \".\" + task_name\n",
    "dataset_info[\"name\"] = task_name\n",
    "dataset_info[\"version\"] = version\n",
    "dataset_info[\"splits\"][0][\"shardLengths\"] = [str(episodes_per_file)] * num_files \n",
    "\n",
    "with open(os.path.join(output_dir, \"dataset_info.json\"), \"w\") as f:\n",
    "    json.dump(dataset_info, f, ensure_ascii=False, indent=2, sort_keys=True, separators=(',', ': '))"
   ]
  },
  {
   "cell_type": "code",
   "execution_count": 6,
   "id": "a4fa7559",
   "metadata": {},
   "outputs": [
    {
     "data": {
      "text/plain": [
       "'/media/sbr-tech/Desk SSD1/aloha/mobile_aloha_sim_couple_dataset_100/mobile_aloha_sim_couple_dataset/1.0.0/features.json'"
      ]
     },
     "execution_count": 6,
     "metadata": {},
     "output_type": "execute_result"
    }
   ],
   "source": [
    "if not mobile:\n",
    "    ret = shutil.copy(\"features_template_static.json\", os.path.join(output_dir, \"features.json\"))\n",
    "else:\n",
    "    ret = shutil.copy(\"features_template_mobile.json\", os.path.join(output_dir, \"features.json\"))\n",
    "ret"
   ]
  },
  {
   "cell_type": "code",
   "execution_count": 7,
   "id": "24924c60",
   "metadata": {},
   "outputs": [],
   "source": [
    "sample_hdf5_file = os.path.join(input_hdf5_dir, input_hdf5_basename.format(0))"
   ]
  },
  {
   "cell_type": "code",
   "execution_count": 8,
   "id": "ee0aacf6-3d7b-41a7-9a81-5c7f0da39d12",
   "metadata": {},
   "outputs": [],
   "source": [
    "NUM_EPISODE = 600 if not mobile else 720\n",
    "\n",
    "IS_FIRSTS = np.zeros(NUM_EPISODE, dtype=int)\n",
    "IS_FIRSTS[0] = 1\n",
    "DISCOUNTS = np.ones(NUM_EPISODE, dtype=float)\n",
    "IS_LASTS = np.zeros(NUM_EPISODE, dtype=int)\n",
    "IS_LASTS[-1] = 1\n",
    "LANGUAGE_INSTRUCTION_CUCUMBER = b\"pick up the cucumber and put it in the bucket\"\n",
    "LANGUAGE_INSTRUCTIONS_CUCUMBER = np.array([LANGUAGE_INSTRUCTION_CUCUMBER]*NUM_EPISODE)\n",
    "LANGUAGE_INSTRUCTION_CUBE = b\"pick up the red cube and put it in the bucket\"\n",
    "LANGUAGE_INSTRUCTIONS_CUBE = np.array([LANGUAGE_INSTRUCTION_CUBE]*NUM_EPISODE)\n",
    "REWARDS = np.zeros(NUM_EPISODE, dtype=float)\n",
    "REWARDS[-1] = 1\n",
    "IS_TARMINALS = np.zeros(NUM_EPISODE, dtype=int)\n",
    "IS_TARMINALS[-1] = 1\n",
    "METADATA = sample_hdf5_file"
   ]
  },
  {
   "cell_type": "code",
   "execution_count": 9,
   "id": "3d3123e9-ae5c-4f7b-8e2d-52849877c60e",
   "metadata": {},
   "outputs": [],
   "source": [
    "def _image_bytes_feature(images):\n",
    "    values = [tf.image.encode_jpeg(image).numpy() for image in images]\n",
    "    return tf.train.Feature(bytes_list=tf.train.BytesList(value=values))\n",
    "\n",
    "def _language_bytes_feature(langs):\n",
    "    values = [lang.tobytes() for lang in langs]\n",
    "    return tf.train.Feature(bytes_list=tf.train.BytesList(value=values))\n",
    "    \n",
    "def _bytes_feature(value):\n",
    "    return tf.train.Feature(bytes_list=tf.train.BytesList(value=[value]))\n",
    "\n",
    "def _float_feature(value):\n",
    "    return tf.train.Feature(float_list=tf.train.FloatList(value=value))\n",
    "\n",
    "def _int64_feature(value):\n",
    "    return tf.train.Feature(int64_list=tf.train.Int64List(value=value))"
   ]
  },
  {
   "cell_type": "code",
   "execution_count": 10,
   "id": "d4a1750a-f8b2-49e4-8ca9-1c9ac8b43711",
   "metadata": {},
   "outputs": [],
   "source": [
    "def numpy_to_tf_example(states, images_top, images_angle, images_left_wrist, images_right_wrist, actions, mobile=False, cube=False):    \n",
    "    language_instructions = LANGUAGE_INSTRUCTIONS_CUCUMBER if not cube else LANGUAGE_INSTRUCTIONS_CUBE\n",
    "\n",
    "    if not mobile:\n",
    "        feature = {\n",
    "            \"steps/is_first\": _int64_feature(IS_FIRSTS),\n",
    "            \"steps/action\": _float_feature(actions.flatten()),\n",
    "            \"steps/discount\": _float_feature(DISCOUNTS),\n",
    "            \"steps/is_last\": _int64_feature(IS_LASTS),\n",
    "            \"steps/language_instruction\": _language_bytes_feature(language_instructions),\n",
    "            \"steps/rewards\": _float_feature(REWARDS),\n",
    "            \"steps/observation/top\": _image_bytes_feature(images_top),\n",
    "            \"steps/observation/angle\": _image_bytes_feature(images_angle),\n",
    "            \"steps/observation/left_wrist\": _image_bytes_feature(images_left_wrist),\n",
    "            \"steps/observation/right_wrist\": _image_bytes_feature(images_right_wrist),\n",
    "            \"steps/is_terminal\": _int64_feature(IS_TARMINALS),\n",
    "            \"steps/observation/state\": _float_feature(states.flatten()),\n",
    "            \"episode_metadata/file_path\": _bytes_feature(METADATA.encode())\n",
    "        }\n",
    "    else:\n",
    "        feature = {\n",
    "            \"steps/is_first\": _int64_feature(IS_FIRSTS),\n",
    "            \"steps/action\": _float_feature(actions.flatten()),\n",
    "            \"steps/discount\": _float_feature(DISCOUNTS),\n",
    "            \"steps/is_last\": _int64_feature(IS_LASTS),\n",
    "            \"steps/language_instruction\": _language_bytes_feature(language_instructions),\n",
    "            \"steps/rewards\": _float_feature(REWARDS),\n",
    "            \"steps/observation/angle\": _image_bytes_feature(images_angle),\n",
    "            \"steps/observation/left_wrist\": _image_bytes_feature(images_left_wrist),\n",
    "            \"steps/observation/right_wrist\": _image_bytes_feature(images_right_wrist),\n",
    "            \"steps/is_terminal\": _int64_feature(IS_TARMINALS),\n",
    "            \"steps/observation/state\": _float_feature(states.flatten()),\n",
    "            \"episode_metadata/file_path\": _bytes_feature(METADATA.encode())\n",
    "        }        \n",
    "\n",
    "    features = tf.train.Features(feature=feature)\n",
    "    example = tf.train.Example(features=features)\n",
    "    \n",
    "    return example"
   ]
  },
  {
   "cell_type": "code",
   "execution_count": 12,
   "id": "e6394a06-9a82-42ad-8502-86952e99eb17",
   "metadata": {},
   "outputs": [],
   "source": [
    "\n",
    "episode_idx = 0\n",
    "for file_idx in range(num_files):\n",
    "    output_tfrecord_file = os.path.join(output_dir, output_basename.format(str(file_idx).zfill(5), str(num_files).zfill(5)))\n",
    "    if os.path.exists(output_tfrecord_file):\n",
    "        episode_idx += episodes_per_file\n",
    "        continue\n",
    "    with tf.io.TFRecordWriter(output_tfrecord_file) as writer:\n",
    "        for _ in range(episodes_per_file):\n",
    "            hdf5_file = os.path.join(input_hdf5_dir, input_hdf5_basename.format(episode_idx))\n",
    "            with h5py.File(hdf5_file, 'r') as hdf5_f:\n",
    "                states = hdf5_f[\"observations\"][\"qpos\"][:].copy()\n",
    "                images_top = hdf5_f[\"observations\"][\"images\"][\"top\"][:].copy()\n",
    "                images_angle = hdf5_f[\"observations\"][\"images\"][\"angle\"][:].copy()\n",
    "                images_left_wrist = hdf5_f[\"observations\"][\"images\"][\"left_wrist\"][:].copy()\n",
    "                images_right_wrist = hdf5_f[\"observations\"][\"images\"][\"right_wrist\"][:].copy()\n",
    "                actions = hdf5_f[\"action\"][:].copy()\n",
    "            \n",
    "            cube = episode_idx%2 == 1\n",
    "            example = numpy_to_tf_example(states, images_top, images_angle, images_left_wrist, images_right_wrist, actions, mobile=mobile, cube=cube)\n",
    "\n",
    "            writer.write(example.SerializeToString())\n",
    "            episode_idx += 1\n"
   ]
  }
 ],
 "metadata": {
  "kernelspec": {
   "display_name": "Python 3 (ipykernel)",
   "language": "python",
   "name": "python3"
  },
  "language_info": {
   "codemirror_mode": {
    "name": "ipython",
    "version": 3
   },
   "file_extension": ".py",
   "mimetype": "text/x-python",
   "name": "python",
   "nbconvert_exporter": "python",
   "pygments_lexer": "ipython3",
   "version": "3.10.12"
  }
 },
 "nbformat": 4,
 "nbformat_minor": 5
}
