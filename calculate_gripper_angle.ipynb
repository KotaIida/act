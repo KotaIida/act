{
 "cells": [
  {
   "cell_type": "code",
   "execution_count": 1,
   "id": "2dbb1382-a6e1-4b2e-ab53-69c6e016fe57",
   "metadata": {},
   "outputs": [],
   "source": [
    "import numpy as np\n",
    "import matplotlib.pyplot as plt\n",
    "from pyquaternion import Quaternion\n",
    "from scipy.spatial.transform import Rotation as R\n",
    "\n"
   ]
  },
  {
   "cell_type": "code",
   "execution_count": 40,
   "id": "85b90b80-0dc8-4897-b026-63c353a583cf",
   "metadata": {},
   "outputs": [
    {
     "data": {
      "text/plain": [
       "(0.45241159357381644,\n",
       " 0.6684396383490685,\n",
       " 45.12239478312595,\n",
       " 0.7525936357105392)"
      ]
     },
     "execution_count": 40,
     "metadata": {},
     "output_type": "execute_result"
    }
   ],
   "source": [
    "base_x = 0.295\n",
    "base_y = 0.414\n",
    "\n",
    "shoulder_z = 1.193\n",
    "cardboard_z = 0.827\n",
    "base_to_shoulder_y = 0.304\n",
    "gripper_y = 0.99\n",
    "shoulder_y = 0.4735\n",
    "arm_length = gripper_y - shoulder_y\n",
    "cardboard_to_shoulder_z = shoulder_z - cardboard_z\n",
    "shoulder_to_grippper_y = np.sqrt(arm_length**2 - cardboard_to_shoulder_z**2)\n",
    "farthest_dist = base_to_shoulder_y + shoulder_to_grippper_y\n",
    "\n",
    "max_angle = np.rad2deg(np.arcsin(cardboard_to_shoulder_z/arm_length))\n",
    "\n",
    "rect_center_x = -0.0235\n",
    "rect_center_y = 0.9845\n",
    "rect_offset = 0.05\n",
    "rect_w = 0.272*2 - rect_offset*2\n",
    "rect_h = 0.1785*2 - rect_offset*2\n",
    "\n",
    "nearest_x = rect_center_x + rect_w/2\n",
    "nearest_y = rect_center_y - rect_h/2\n",
    "\n",
    "nearest_dist = np.linalg.norm(np.array([base_x, base_y]) - np.array([nearest_x, nearest_y]))\n",
    "\n",
    "\n",
    "bucket_height = 0.11\n",
    "bucket_z = cardboard_z + bucket_height\n",
    "bucket_to_shoulder_z = shoulder_z - bucket_z\n",
    "shoulder_to_grippper_y_bucket = np.sqrt(arm_length**2 - bucket_to_shoulder_z**2)\n",
    "farthest_dist_bucket = base_to_shoulder_y + shoulder_to_grippper_y_bucket\n",
    "\n",
    "nearest_dist, farthest_dist, max_angle, farthest_dist_bucket"
   ]
  },
  {
   "cell_type": "code",
   "execution_count": 38,
   "id": "5335bf8f-cedf-4dc4-ae89-36783db5324b",
   "metadata": {},
   "outputs": [
    {
     "data": {
      "text/plain": [
       "0.6684396383490685"
      ]
     },
     "execution_count": 38,
     "metadata": {},
     "output_type": "execute_result"
    }
   ],
   "source": [
    "farthest_dist"
   ]
  },
  {
   "cell_type": "code",
   "execution_count": null,
   "id": "13e7111f-1131-4035-abb4-07d6a3c560d3",
   "metadata": {},
   "outputs": [],
   "source": []
  },
  {
   "cell_type": "code",
   "execution_count": 3,
   "id": "ceac3587-e6d9-4ec1-a59e-5bfebcb75d8d",
   "metadata": {},
   "outputs": [],
   "source": [
    "def sample_obj_and_dst_pose(mobile=False):\n",
    "    if not mobile:\n",
    "        obj_x_range = [-0.1, 0.3]\n",
    "        dst_x_range = [-0.1, 0.3]\n",
    "        y_range = [0.3, 0.8]\n",
    "        obj_z_range = [0.015, 0.015]\n",
    "        dst_z_range = [0.015, 0.015]\n",
    "        obj_angle_range = [0, 180]\n",
    "        obj_dst_interval = 0.1    \n",
    "    # else:\n",
    "    #     obj_x_range = [0.0355, 0.0355]\n",
    "    #     dst_x_range = [-0.2385, -0.2385] # -0.2385, 0.1915\n",
    "    #     y_range = [0.863, 0.863] # 0.863, 1.106\n",
    "    #     obj_z_range = [0.842, 0.842]\n",
    "    #     dst_z_range = [0.827, 0.827]\n",
    "    #     obj_angle_range = [0, 0] # -90, 90\n",
    "    #     obj_dst_interval = 0.1            \n",
    "\n",
    "        obj_ranges = np.vstack([obj_x_range, y_range, obj_z_range])\n",
    "        obj_position = np.random.uniform(obj_ranges[:, 0], obj_ranges[:, 1])\n",
    "        obj_angle = np.random.uniform(obj_angle_range[0], obj_angle_range[1])    \n",
    "        obj_quat = np.array([np.cos(np.deg2rad(obj_angle)/2), 0, 0, np.sin(np.deg2rad(obj_angle)/2)])    \n",
    "        dst_ranges = np.vstack([dst_x_range, y_range, dst_z_range])\n",
    "        dst_position = np.random.uniform(dst_ranges[:, 0], dst_ranges[:, 1])\n",
    "\n",
    "        while np.linalg.norm(dst_position[:2] - obj_position[:2]) < 0.055+0.002+obj_dst_interval:\n",
    "            dst_position = np.random.uniform(dst_ranges[:, 0], dst_ranges[:, 1])\n",
    "    \n",
    "    else:\n",
    "        circle_x = 0.295\n",
    "        circle_y = 0.414\n",
    "        obj_circle_r = 0.6684396383490685\n",
    "        dst_circle_r = 0.6684396383490685\n",
    "\n",
    "        rect_center_x = -0.0235\n",
    "        rect_center_y = 0.9845\n",
    "        rect_offset = 0.05\n",
    "        rect_w = 0.272*2 - rect_offset*2\n",
    "        rect_h = 0.1785*2 - rect_offset*2\n",
    "\n",
    "        obj_z = 0.842\n",
    "        dst_z = 0.827\n",
    "        obj_angle_range = [-90, 90] # -90, 90\n",
    "        obj_dst_interval = 0.1            \n",
    "        obj_xy = hit_or_miss_sample(obj_circle_r, circle_x, circle_y, rect_center_x, rect_center_y, rect_w, rect_h)\n",
    "        dst_xy = hit_or_miss_sample(dst_circle_r, circle_x, circle_y, rect_center_x, rect_center_y, rect_w, rect_h)\n",
    "\n",
    "        obj_angle = np.random.uniform(obj_angle_range[0], obj_angle_range[1])    \n",
    "        print (obj_angle)\n",
    "        obj_quat = np.array([np.cos(np.deg2rad(obj_angle)/2), 0, 0, np.sin(np.deg2rad(obj_angle)/2)])    \n",
    "        print (obj_quat)\n",
    "\n",
    "        while np.linalg.norm(dst_xy - obj_xy) < 0.055+0.002+obj_dst_interval:\n",
    "            obj_xy = hit_or_miss_sample(obj_circle_r, circle_x, circle_y, rect_center_x, rect_center_y, rect_w, rect_h)\n",
    "            dst_xy = hit_or_miss_sample(dst_circle_r, circle_x, circle_y, rect_center_x, rect_center_y, rect_w, rect_h)\n",
    "        \n",
    "        obj_position = np.hstack([obj_xy, obj_z])\n",
    "        dst_position = np.hstack([dst_xy, dst_z])\n",
    "\n",
    "    dst_quat = np.array([1, 0, 0, 0])\n",
    "    return np.concatenate([obj_position, obj_quat, dst_position, dst_quat])\n",
    "\n",
    "\n",
    "def hit_or_miss_sample(circle_r, circle_x, circle_y, rect_center_x, rect_center_y, rect_w, rect_h):\n",
    "    rect_min_x = rect_center_x-rect_w/2\n",
    "    rect_max_x = rect_center_x+rect_w/2\n",
    "    rect_min_y = rect_center_y-rect_h/2\n",
    "    rect_max_y = rect_center_y+rect_h/2\n",
    "    \n",
    "    min_x = min(circle_x-circle_r, rect_min_x)\n",
    "    max_x = max(circle_x+circle_r, rect_max_x)    \n",
    "    min_y = min(circle_y-circle_r, rect_min_y)\n",
    "    max_y = max(circle_y+circle_r, rect_max_y)        \n",
    "\n",
    "    in_rect, in_circle = False, False\n",
    "\n",
    "    while not (in_rect and in_circle):    \n",
    "        sample = np.random.uniform(low=[min_x, min_y], high=[max_x, max_y])\n",
    "        sample_x, sample_y = sample\n",
    "        \n",
    "        in_rect = (rect_min_x < sample_x) & (sample_x < rect_max_x) & (rect_min_y < sample_y) & (sample_y < rect_max_y)\n",
    "        in_circle = np.linalg.norm(sample - np.stack([circle_x, circle_y])) < circle_r\n",
    "\n",
    "    return sample\n",
    "\n",
    "def quaternion_to_euler(q):\n",
    "    r = R.from_quat([q[1], q[2], q[3], q[0]])\n",
    "    return r.as_euler('xyz', degrees=True)\n",
    "\n",
    "\n",
    "def interpolate_wrist_angle(object_dist):\n",
    "    MAX_ANGLE = 90\n",
    "    MIN_ANGLE = 45.12239478312595\n",
    "    \n",
    "    MAX_DIST = 0.9370310024003563\n",
    "    MIN_DIST = 0.45241159357381644\n",
    "    \n",
    "    a = (MIN_ANGLE - MAX_ANGLE)/(MAX_DIST - MIN_DIST)\n",
    "    b = MAX_ANGLE - a*MIN_DIST\n",
    "\n",
    "    return a*object_dist + b\n"
   ]
  },
  {
   "cell_type": "code",
   "execution_count": 4,
   "id": "e0da3bdf-b470-4022-bbdf-d360a45625f1",
   "metadata": {},
   "outputs": [
    {
     "data": {
      "text/plain": [
       "131.89503870904545"
      ]
     },
     "execution_count": 4,
     "metadata": {},
     "output_type": "execute_result"
    }
   ],
   "source": [
    "MAX_ANGLE = 90\n",
    "MIN_ANGLE = 45.12239478312595\n",
    "\n",
    "MAX_DIST = 0.9370310024003563\n",
    "MIN_DIST = 0.45241159357381644\n",
    "\n",
    "a = (MIN_ANGLE - MAX_ANGLE)/(MAX_DIST - MIN_DIST)\n",
    "b = MAX_ANGLE - a*MIN_DIST\n",
    "b"
   ]
  },
  {
   "cell_type": "code",
   "execution_count": 5,
   "id": "49fa0060-4a6c-4a46-ad67-0c0d0871bdf8",
   "metadata": {},
   "outputs": [
    {
     "data": {
      "text/plain": [
       "131.89503870904545"
      ]
     },
     "execution_count": 5,
     "metadata": {},
     "output_type": "execute_result"
    }
   ],
   "source": [
    "b = MIN_ANGLE - a*MAX_DIST\n",
    "b"
   ]
  },
  {
   "cell_type": "code",
   "execution_count": null,
   "id": "8f7f0b8b-610e-483f-8347-9a1139c6497c",
   "metadata": {},
   "outputs": [],
   "source": []
  },
  {
   "cell_type": "code",
   "execution_count": 6,
   "id": "b7b61917-ec4a-446e-acf9-ebdf3ef571cd",
   "metadata": {},
   "outputs": [
    {
     "name": "stdout",
     "output_type": "stream",
     "text": [
      "28.55914571131001\n",
      "[0.96910373 0.         0.         0.24665352]\n"
     ]
    }
   ],
   "source": [
    "object_and_bucket_pose = sample_obj_and_dst_pose(mobile=True)"
   ]
  },
  {
   "cell_type": "code",
   "execution_count": 7,
   "id": "0d419c3c-8757-4566-83c8-bfd707463c88",
   "metadata": {},
   "outputs": [
    {
     "data": {
      "text/plain": [
       "array([0.96910373, 0.        , 0.        , 0.24665352])"
      ]
     },
     "execution_count": 7,
     "metadata": {},
     "output_type": "execute_result"
    }
   ],
   "source": [
    "q = object_and_bucket_pose[3:7]\n",
    "q"
   ]
  },
  {
   "cell_type": "code",
   "execution_count": 20,
   "id": "e0967a86-0e4f-4f8b-bed7-f3410cbc0634",
   "metadata": {},
   "outputs": [
    {
     "data": {
      "text/plain": [
       "28.55914571131001"
      ]
     },
     "execution_count": 20,
     "metadata": {},
     "output_type": "execute_result"
    }
   ],
   "source": [
    "obj_angle = quaternion_to_euler(q)[2]\n",
    "obj_angle"
   ]
  },
  {
   "cell_type": "code",
   "execution_count": 21,
   "id": "b962dd65-c09a-46fb-89bb-7d47df6f864f",
   "metadata": {},
   "outputs": [],
   "source": [
    "obj_vector = np.array([-np.sin(np.deg2rad(obj_angle)), np.cos(np.deg2rad(obj_angle))])"
   ]
  },
  {
   "cell_type": "code",
   "execution_count": null,
   "id": "98d4b4f0-fcfa-4425-869a-8968b31b4465",
   "metadata": {},
   "outputs": [],
   "source": []
  },
  {
   "cell_type": "code",
   "execution_count": 22,
   "id": "9738de80-6219-408b-a413-72d5c2d02099",
   "metadata": {},
   "outputs": [],
   "source": [
    "base_to_obj_vec = object_and_bucket_pose[:2] - np.array([base_x, base_y])"
   ]
  },
  {
   "cell_type": "code",
   "execution_count": 26,
   "id": "ad73c176-2265-4a4a-807b-c2817cdae6ef",
   "metadata": {},
   "outputs": [
    {
     "data": {
      "text/plain": [
       "17.894553474517423"
      ]
     },
     "execution_count": 26,
     "metadata": {},
     "output_type": "execute_result"
    }
   ],
   "source": [
    "base_angle = np.rad2deg(np.arctan2(*base_to_obj_vec))\n",
    "-base_angle"
   ]
  },
  {
   "cell_type": "code",
   "execution_count": 27,
   "id": "0d024c2b-f93b-4384-9efd-55a659a340b1",
   "metadata": {},
   "outputs": [],
   "source": [
    "base_vector = np.array([-np.sin(np.deg2rad(-base_angle)), np.cos(np.deg2rad(-base_angle))])"
   ]
  },
  {
   "cell_type": "code",
   "execution_count": null,
   "id": "4cef7f1a-df9e-4be4-9721-2abb7e487558",
   "metadata": {},
   "outputs": [],
   "source": []
  },
  {
   "cell_type": "code",
   "execution_count": 28,
   "id": "cbb081e6-9a41-46cb-898d-40b281bf169d",
   "metadata": {},
   "outputs": [
    {
     "data": {
      "image/png": "[encoded data removed]",
      "text/plain": [
       "<Figure size 600x600 with 1 Axes>"
      ]
     },
     "metadata": {},
     "output_type": "display_data"
    }
   ],
   "source": [
    "plt.figure(figsize=(6, 6))\n",
    "\n",
    "plt.scatter(base_x, base_y, c=\"r\", label=\"base\")\n",
    "plt.scatter(object_and_bucket_pose[0], object_and_bucket_pose[1], c=\"b\", label=\"object\")\n",
    "scale = 0.4\n",
    "\n",
    "plt.arrow(x=object_and_bucket_pose[0], y=object_and_bucket_pose[1], \n",
    "           dx=obj_vector[0]*scale, \n",
    "           dy=obj_vector[1]*scale,\n",
    "          width=0.01,head_width=0.05,head_length=0.1,length_includes_head=True,color='b')\n",
    "\n",
    "\n",
    "plt.arrow(x=base_x, y=base_y, \n",
    "           dx=base_vector[0]*scale, \n",
    "           dy=base_vector[1]*scale,\n",
    "          width=0.01,head_width=0.05,head_length=0.1,length_includes_head=True,color='r')\n",
    "\n",
    "plt.xlim(-1, 2)\n",
    "plt.ylim(-1, 2)\n",
    "\n",
    "plt.grid()\n",
    "plt.legend()\n",
    "plt.show()"
   ]
  },
  {
   "cell_type": "code",
   "execution_count": null,
   "id": "7c109f80-4738-4660-bedd-943ebee18b87",
   "metadata": {},
   "outputs": [],
   "source": []
  },
  {
   "cell_type": "code",
   "execution_count": 16,
   "id": "5838c8fc-5444-497f-83ed-467d4bdaaf9d",
   "metadata": {},
   "outputs": [
    {
     "data": {
      "text/plain": [
       "48.55160681269025"
      ]
     },
     "execution_count": 16,
     "metadata": {},
     "output_type": "execute_result"
    }
   ],
   "source": [
    "0.414"
   ]
  },
  {
   "cell_type": "code",
   "execution_count": 29,
   "id": "5e89312b-9446-46a2-9a06-653e96ced07f",
   "metadata": {},
   "outputs": [
    {
     "data": {
      "text/plain": [
       "0.304"
      ]
     },
     "execution_count": 29,
     "metadata": {},
     "output_type": "execute_result"
    }
   ],
   "source": [
    "0.718 - 0.414\n"
   ]
  },
  {
   "cell_type": "code",
   "execution_count": 31,
   "id": "840886f2-2593-4a2e-ad76-e731a25a370f",
   "metadata": {},
   "outputs": [
    {
     "data": {
      "text/plain": [
       "0.5165"
      ]
     },
     "execution_count": 31,
     "metadata": {},
     "output_type": "execute_result"
    }
   ],
   "source": [
    "0.99 - 0.4735"
   ]
  },
  {
   "cell_type": "code",
   "execution_count": 32,
   "id": "9bba85a1-3c16-4beb-9941-2f4f2071d125",
   "metadata": {},
   "outputs": [
    {
     "data": {
      "text/plain": [
       "0.99"
      ]
     },
     "execution_count": 32,
     "metadata": {},
     "output_type": "execute_result"
    }
   ],
   "source": [
    "0.4735 + 0.5165"
   ]
  },
  {
   "cell_type": "code",
   "execution_count": 39,
   "id": "d80c982e-60e6-418d-9fa8-7bc219e96bfd",
   "metadata": {},
   "outputs": [
    {
     "data": {
      "text/plain": [
       "1.0824396383490684"
      ]
     },
     "execution_count": 39,
     "metadata": {},
     "output_type": "execute_result"
    }
   ],
   "source": [
    "0.414 + farthest_dist"
   ]
  },
  {
   "cell_type": "code",
   "execution_count": 42,
   "id": "e1a4e7ac-2281-4d26-ad41-f1bca0d62a6d",
   "metadata": {},
   "outputs": [
    {
     "data": {
      "text/plain": [
       "(-0.17765820109050978, 0.8866582010905097)"
      ]
     },
     "execution_count": 42,
     "metadata": {},
     "output_type": "execute_result"
    }
   ],
   "source": [
    "angle = np.pi/4\n",
    "\n",
    "circle_x = 0.295\n",
    "circle_y = 0.414\n",
    "\n",
    "circle_x-farthest_dist*np.cos(angle), circle_y+farthest_dist*np.sin(angle)"
   ]
  },
  {
   "cell_type": "code",
   "execution_count": 43,
   "id": "f0101a20-c459-41b5-bb7e-51eefe2b405a",
   "metadata": {},
   "outputs": [
    {
     "data": {
      "text/plain": [
       "0.6684396383490685"
      ]
     },
     "execution_count": 43,
     "metadata": {},
     "output_type": "execute_result"
    }
   ],
   "source": [
    "farthest_dist\n"
   ]
  },
  {
   "cell_type": "code",
   "execution_count": 44,
   "id": "94e5ffe3-364f-4876-9368-8f7a35de2de2",
   "metadata": {},
   "outputs": [
    {
     "data": {
      "text/plain": [
       "0.21650000000000003"
      ]
     },
     "execution_count": 44,
     "metadata": {},
     "output_type": "execute_result"
    }
   ],
   "source": [
    "0.99 - 0.7735"
   ]
  },
  {
   "cell_type": "code",
   "execution_count": 45,
   "id": "f4c8c364-0241-4287-878b-5cf0875c2961",
   "metadata": {},
   "outputs": [],
   "source": [
    "shoulder_to_wrist = 0.3\n",
    "wrist_to_gripper = 0.2165"
   ]
  },
  {
   "cell_type": "code",
   "execution_count": 47,
   "id": "cb1a7827-a62f-40eb-a546-9ee1fc7dcb45",
   "metadata": {},
   "outputs": [
    {
     "data": {
      "text/plain": [
       "0.1495000000000001"
      ]
     },
     "execution_count": 47,
     "metadata": {},
     "output_type": "execute_result"
    }
   ],
   "source": [
    "shoulder_to_wrist_z = cardboard_to_shoulder_z - wrist_to_gripper\n",
    "shoulder_to_wrist_z"
   ]
  },
  {
   "cell_type": "code",
   "execution_count": 49,
   "id": "39705ac4-5965-4a83-b0dd-c92123339991",
   "metadata": {},
   "outputs": [],
   "source": [
    "shoulder_to_wrist_y = np.sqrt(shoulder_to_wrist**2 - shoulder_to_wrist_z**2)"
   ]
  },
  {
   "cell_type": "code",
   "execution_count": 50,
   "id": "ba6c72cf-204e-4a6d-9e0a-391608a8f6a5",
   "metadata": {},
   "outputs": [
    {
     "data": {
      "text/plain": [
       "0.564095655480825"
      ]
     },
     "execution_count": 50,
     "metadata": {},
     "output_type": "execute_result"
    }
   ],
   "source": [
    "shoulder_to_wrist_y + base_to_shoulder_y"
   ]
  },
  {
   "cell_type": "code",
   "execution_count": 52,
   "id": "2de3a0e4-0152-4283-979f-540d95c2ac13",
   "metadata": {},
   "outputs": [
    {
     "data": {
      "text/plain": [
       "0.7767498780487515"
      ]
     },
     "execution_count": 52,
     "metadata": {},
     "output_type": "execute_result"
    }
   ],
   "source": [
    "np.sqrt(0.3**2 - (0.366 - 0.21)**2) +0.304 + 0.2165"
   ]
  },
  {
   "cell_type": "code",
   "execution_count": null,
   "id": "aef1039f-7ea8-461c-af91-069fede0d52d",
   "metadata": {},
   "outputs": [],
   "source": []
  }
 ],
 "metadata": {
  "kernelspec": {
   "display_name": "Python 3 (ipykernel)",
   "language": "python",
   "name": "python3"
  },
  "language_info": {
   "codemirror_mode": {
    "name": "ipython",
    "version": 3
   },
   "file_extension": ".py",
   "mimetype": "text/x-python",
   "name": "python",
   "nbconvert_exporter": "python",
   "pygments_lexer": "ipython3",
   "version": "3.10.12"
  }
 },
 "nbformat": 4,
 "nbformat_minor": 5
}
